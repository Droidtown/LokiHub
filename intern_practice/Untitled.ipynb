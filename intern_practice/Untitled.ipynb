{
 "cells": [
  {
   "cell_type": "code",
   "execution_count": 13,
   "metadata": {},
   "outputs": [
    {
     "name": "stdout",
     "output_type": "stream",
     "text": [
      "{'台幣': 'TWD', '美金': 'USD', '歐元': 'EUR', '日圓': 'JPY', '英鎊': 'GBP', '瑞士法郎': 'CHF', '加幣': 'CAD', '澳幣': 'AUD', '巴西黑奧': 'BRL', '人民幣': 'CNY', '捷克克朗': 'CZK', '丹麥克羅納': 'DKK', '港幣': 'HKD', '匈牙利': 'HUF', '印尼盧比': 'IDR', '印度盧比': 'INR', '韓圜': 'KRW', '墨西哥披索': 'MXN', '挪威克?': 'NOK', '紐幣': 'NZD', '菲律賓披索': 'PHP', '波蘭茲羅提': 'PLN', '俄國盧布': 'RUB', '瑞典克郎': 'SEK', '新加坡幣': 'SGD', '泰銖': 'THB', '土耳其里拉': 'TRL', '南非幣': 'ZAR', '馬來西亞': 'MYR', '斯洛伐克克朗': 'SKK', '沙烏地阿拉伯利雅': 'SAR', '哥倫比亞披索': 'COP', '辛巴威': 'ZWD', '摩洛哥迪拉姆': 'MAD', '埃及鎊': 'EGP', '以色列謝克': 'ILS', '智利披索': 'CLP', '阿根廷披索': 'ARS', '玻利維亞幣': 'BOB', '厄爪多爾蘇克雷': 'ECS', '巴拿馬巴布亞': 'PAB', '委內瑞拉銀幣': 'VEB', '巴基斯坦盧比': 'PKR', '斯里蘭卡盧比': 'LKR', '哥斯大黎加': 'CRC', '新土耳其里拉': 'TRY', '肯亞先令': 'KES', '模里西斯盧比': 'MUR', '越南幣': 'VND', '冰島幣': 'ISK', '阿拉伯聯合大公國迪拉姆': 'AED', '秘魯索爾': 'PEN', '黃金': 'XAU', '境外人民幣': 'CNH', '科威特幣': 'KWD', '澳門幣': 'MOP'}\n"
     ]
    }
   ],
   "source": [
    "import csv\n",
    "curDICT={}\n",
    "with open('currency_CE.csv', 'r') as file:\n",
    "    reader = csv.reader(file)\n",
    "    for row in reader:\n",
    "         curDICT[row[1]]=row[0]\n",
    "   \n",
    "print(curDICT)"
   ]
  },
  {
   "cell_type": "code",
   "execution_count": 10,
   "metadata": {},
   "outputs": [
    {
     "ename": "ValueError",
     "evalue": "I/O operation on closed file.",
     "output_type": "error",
     "traceback": [
      "\u001b[1;31m---------------------------------------------------------------------------\u001b[0m",
      "\u001b[1;31mValueError\u001b[0m                                Traceback (most recent call last)",
      "\u001b[1;32m<ipython-input-10-f53d6be7719d>\u001b[0m in \u001b[0;36m<module>\u001b[1;34m\u001b[0m\n\u001b[0;32m      1\u001b[0m \u001b[0mcurDICT\u001b[0m\u001b[1;33m=\u001b[0m\u001b[1;33m{\u001b[0m\u001b[1;33m}\u001b[0m\u001b[1;33m\u001b[0m\u001b[1;33m\u001b[0m\u001b[0m\n\u001b[1;32m----> 2\u001b[1;33m \u001b[1;32mfor\u001b[0m \u001b[0mrow\u001b[0m \u001b[1;32min\u001b[0m \u001b[0mreader\u001b[0m\u001b[1;33m:\u001b[0m\u001b[1;33m\u001b[0m\u001b[1;33m\u001b[0m\u001b[0m\n\u001b[0m\u001b[0;32m      3\u001b[0m     \u001b[0mcurDICT\u001b[0m\u001b[1;33m[\u001b[0m\u001b[0mrow\u001b[0m\u001b[1;33m[\u001b[0m\u001b[1;36m0\u001b[0m\u001b[1;33m]\u001b[0m\u001b[1;33m]\u001b[0m\u001b[1;33m=\u001b[0m\u001b[1;33m[\u001b[0m\u001b[0mrow\u001b[0m\u001b[1;33m[\u001b[0m\u001b[1;36m1\u001b[0m\u001b[1;33m]\u001b[0m\u001b[1;33m]\u001b[0m\u001b[1;33m\u001b[0m\u001b[1;33m\u001b[0m\u001b[0m\n\u001b[0;32m      4\u001b[0m \u001b[0mprint\u001b[0m\u001b[1;33m(\u001b[0m\u001b[0mcurDICT\u001b[0m\u001b[1;33m)\u001b[0m\u001b[1;33m\u001b[0m\u001b[1;33m\u001b[0m\u001b[0m\n",
      "\u001b[1;31mValueError\u001b[0m: I/O operation on closed file."
     ]
    }
   ],
   "source": [
    "curDICT={}\n",
    "for row in reader:\n",
    "    curDICT[row[0]]=[row[1]]\n",
    "print(curDICT)"
   ]
  }
 ],
 "metadata": {
  "kernelspec": {
   "display_name": "Python 3",
   "language": "python",
   "name": "python3"
  },
  "language_info": {
   "codemirror_mode": {
    "name": "ipython",
    "version": 3
   },
   "file_extension": ".py",
   "mimetype": "text/x-python",
   "name": "python",
   "nbconvert_exporter": "python",
   "pygments_lexer": "ipython3",
   "version": "3.7.4"
  }
 },
 "nbformat": 4,
 "nbformat_minor": 2
}
